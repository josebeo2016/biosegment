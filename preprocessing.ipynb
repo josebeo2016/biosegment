{
 "cells": [
  {
   "attachments": {},
   "cell_type": "markdown",
   "metadata": {},
   "source": [
    "# making noisy dataset"
   ]
  },
  {
   "cell_type": "code",
   "execution_count": null,
   "metadata": {},
   "outputs": [],
   "source": [
    "from preprocess import extract_lfcc, extract_mfcc\n",
    "from GMM_breath import GMMClassifier, ClassifierValidator, VectorDataSource\n",
    "import pickle\n",
    "from auditok import DataValidator, ADSFactory, DataSource, StreamTokenizer, BufferAudioSource, player_for\n",
    "import soundfile as sf\n",
    "from IPython.display import display, Audio\n",
    "from hparams import *"
   ]
  },
  {
   "cell_type": "code",
   "execution_count": 1,
   "metadata": {},
   "outputs": [],
   "source": [
    "import os\n",
    "import subprocess\n",
    "import librosa\n",
    "import numpy as np"
   ]
  },
  {
   "cell_type": "code",
   "execution_count": 7,
   "metadata": {},
   "outputs": [
    {
     "name": "stdout",
     "output_type": "stream",
     "text": [
      "/dataa/phucdt/biosegment/data/wav/LA_T_9351820.wav\n",
      "/dataa/phucdt/biosegment/data/wav/LA_T_9333003.wav\n"
     ]
    },
    {
     "name": "stderr",
     "output_type": "stream",
     "text": [
      "ffmpeg version 4.3 Copyright (c) 2000-2020 the FFmpeg developers\n",
      "  built with gcc 7.3.0 (crosstool-NG 1.23.0.449-a04d0)\n",
      "  configuration: --prefix=/home/phucdt/anaconda3/envs/py39 --cc=/opt/conda/conda-bld/ffmpeg_1597178665428/_build_env/bin/x86_64-conda_cos6-linux-gnu-cc --disable-doc --disable-openssl --enable-avresample --enable-gnutls --enable-hardcoded-tables --enable-libfreetype --enable-libopenh264 --enable-pic --enable-pthreads --enable-shared --disable-static --enable-version3 --enable-zlib --enable-libmp3lame\n",
      "  libavutil      56. 51.100 / 56. 51.100\n",
      "  libavcodec     58. 91.100 / 58. 91.100\n",
      "  libavformat    58. 45.100 / 58. 45.100\n",
      "  libavdevice    58. 10.100 / 58. 10.100\n",
      "  libavfilter     7. 85.100 /  7. 85.100\n",
      "  libavresample   4.  0.  0 /  4.  0.  0\n",
      "  libswscale      5.  7.100 /  5.  7.100\n",
      "  libswresample   3.  7.100 /  3.  7.100\n",
      "Input #0, flac, from '/dataa/Dataset/ASVspoof/LA/ASVspoof2019_LA_train/flac/LA_T_9351820.flac':\n",
      "  Duration: 00:00:02.30, start: 0.000000, bitrate: 150 kb/s\n",
      "    Stream #0:0: Audio: flac, 16000 Hz, mono, s16\n",
      "Stream mapping:\n",
      "  Stream #0:0 -> #0:0 (flac (native) -> pcm_s16le (native))\n",
      "Press [q] to stop, [?] for help\n",
      "Output #0, wav, to '/dataa/phucdt/biosegment/data/wav/LA_T_9351820.wav':\n",
      "  Metadata:\n",
      "    ISFT            : Lavf58.45.100\n",
      "    Stream #0:0: Audio: pcm_s16le ([1][0][0][0] / 0x0001), 16000 Hz, mono, s16, 256 kb/s\n",
      "    Metadata:\n",
      "      encoder         : Lavc58.91.100 pcm_s16le\n",
      "size=      72kB time=00:00:02.30 bitrate= 256.3kbits/s speed= 109x    \n",
      "video:0kB audio:72kB subtitle:0kB other streams:0kB global headers:0kB muxing overhead: 0.105901%\n",
      "ffmpeg version 4.3 Copyright (c) 2000-2020 the FFmpeg developers\n",
      "  built with gcc 7.3.0 (crosstool-NG 1.23.0.449-a04d0)\n",
      "  configuration: --prefix=/home/phucdt/anaconda3/envs/py39 --cc=/opt/conda/conda-bld/ffmpeg_1597178665428/_build_env/bin/x86_64-conda_cos6-linux-gnu-cc --disable-doc --disable-openssl --enable-avresample --enable-gnutls --enable-hardcoded-tables --enable-libfreetype --enable-libopenh264 --enable-pic --enable-pthreads --enable-shared --disable-static --enable-version3 --enable-zlib --enable-libmp3lame\n",
      "  libavutil      56. 51.100 / 56. 51.100\n",
      "  libavcodec     58. 91.100 / 58. 91.100\n",
      "  libavformat    58. 45.100 / 58. 45.100\n",
      "  libavdevice    58. 10.100 / 58. 10.100\n",
      "  libavfilter     7. 85.100 /  7. 85.100\n",
      "  libavresample   4.  0.  0 /  4.  0.  0\n",
      "  libswscale      5.  7.100 /  5.  7.100\n",
      "  libswresample   3.  7.100 /  3.  7.100\n",
      "Input #0, flac, from '/dataa/Dataset/ASVspoof/LA/ASVspoof2019_LA_train/flac/LA_T_9333003.flac':\n",
      "  Duration: 00:00:03.36, start: 0.000000, bitrate: 155 kb/s\n",
      "    Stream #0:0: Audio: flac, 16000 Hz, mono, s16\n",
      "Stream mapping:\n",
      "  Stream #0:0 -> #0:0 (flac (native) -> pcm_s16le (native))\n",
      "Press [q] to stop, [?] for help\n",
      "Output #0, wav, to '/dataa/phucdt/biosegment/data/wav/LA_T_9333003.wav':\n",
      "  Metadata:\n",
      "    ISFT            : Lavf58.45.100\n",
      "    Stream #0:0: Audio: pcm_s16le ([1][0][0][0] / 0x0001), 16000 Hz, mono, s16, 256 kb/s\n",
      "    Metadata:\n",
      "      encoder         : Lavc58.91.100 pcm_s16le\n",
      "size=     105kB time=00:00:03.36 bitrate= 256.2kbits/s speed= 101x    \n",
      "video:0kB audio:105kB subtitle:0kB other streams:0kB global headers:0kB muxing overhead: 0.072464%\n"
     ]
    }
   ],
   "source": [
    "with open(\"/dataa/phucdt/biosegment/data_new/wav.scp\", \"r\") as f:\n",
    "    wav_scp = f.readlines()\n",
    "\n",
    "for li in wav_scp:\n",
    "    file_path = li.strip().split(' ')[-1]\n",
    "    # print(file_path)\n",
    "    if not os.path.exists(file_path):\n",
    "        print(file_path)\n",
    "        subprocess.run(['ffmpeg', '-i', '/dataa/Dataset/ASVspoof/LA/ASVspoof2019_LA_train/flac/'+file_path.split('/')[-1].replace(\".wav\",'.flac'), file_path], check=True)\n",
    "        "
   ]
  },
  {
   "cell_type": "code",
   "execution_count": 8,
   "metadata": {},
   "outputs": [
    {
     "name": "stdout",
     "output_type": "stream",
     "text": [
      "3.wav\n",
      "1.wav\n"
     ]
    }
   ],
   "source": [
    "import soundfile as sf\n",
    "list_file = os.listdir(\"/dataa/phucdt/biosegment/data_new/wav/\")\n",
    "for a in list_file:\n",
    "    y ,sr = librosa.load(\"/dataa/phucdt/biosegment/data_new/wav/\"+a, sr=None)\n",
    "    if sr != 16000:\n",
    "        print(a)\n",
    "        y_resample = librosa.resample(y, sr, 16000)\n",
    "        sf.write(\"/dataa/phucdt/biosegment/data_new/wav/\"+a, y_resample, 16000, subtype='PCM_16')"
   ]
  }
 ],
 "metadata": {
  "kernelspec": {
   "display_name": "py39",
   "language": "python",
   "name": "py39"
  },
  "language_info": {
   "codemirror_mode": {
    "name": "ipython",
    "version": 3
   },
   "file_extension": ".py",
   "mimetype": "text/x-python",
   "name": "python",
   "nbconvert_exporter": "python",
   "pygments_lexer": "ipython3",
   "version": "3.9.13"
  },
  "orig_nbformat": 4
 },
 "nbformat": 4,
 "nbformat_minor": 2
}
